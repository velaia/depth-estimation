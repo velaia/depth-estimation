{
 "cells": [
  {
   "cell_type": "markdown",
   "id": "62564370-fe52-49bf-9147-428d43050d75",
   "metadata": {},
   "source": [
    "# Part 2: Depth Estimation limited to scikit-learn"
   ]
  },
  {
   "cell_type": "markdown",
   "id": "33e8043a-d475-45d5-946b-5cdb5d337f39",
   "metadata": {},
   "source": [
    "I haven't used scikit-learn a lot (mostly the train_test_split), so I'm starting by taking a look at the User Guide and Examples. I've encountered some of the algorithms before in one way or another, so they sound familiar (SGD (obviously), kNN, decision trees, ...) but I also see that there's still a lot to explore in this library.\n",
    "\n",
    "I know the foundations of neural nets, so given enough time it won't be an issue to build one from scratch using scikit-learn. The section I'm looking at right now is called [1.17 Neural network models (supervised)](https://scikit-learn.org/stable/modules/neural_networks_supervised.html) and scikit-learn seems to agree with me: There's a warning right at the top cautioning that GPU support is missing:\n",
    "\n",
    "    Warning: This implementation is not intended for large-scale applications. In particular, scikit-learn offers no GPU support. For much faster, GPU-based implementations, as well as frameworks offering much more flexibility to build deep learning architectures, see Related Projects.\n"
   ]
  },
  {
   "cell_type": "markdown",
   "id": "1184b756-9c84-4a66-8142-9296ef0b933c",
   "metadata": {},
   "source": [
    "The relevant *related projects* are:\n",
    "\n",
    "**Deep neural networks etc.**\n",
    "* skorch A scikit-learn compatible neural network library that wraps PyTorch.\n",
    "* scikeras provides a wrapper around Keras to interface it with scikit-learn. SciKeras is the successor of tf.keras.wrappers.scikit_learn."
   ]
  },
  {
   "cell_type": "markdown",
   "id": "f9f8b5d2-7521-45ff-a424-aaf3b4357fe6",
   "metadata": {},
   "source": [
    "The assessment task reads: \"**Imagine right now that you are only limited to use scikit-learn for this task. What model will you pick and why? Implement the code that creates this model, train it on the data from TFDS NYU Depth V2 (some part of it that may fit into RAM), and evaluate it.**\"\n",
    "\n",
    "It's a mental exercise mostly as you wouldn't use any library without proper deep learning accelerator (GPU, NPU, TPU, ...) support for any real life project having to do with deep neural nets where I train the net for sufficient epochs to get a low loss. So I'm going to follow the exercise in this spirit demonstrating the understanding of core principles of neural nets and their training, providing reasons and explanations where it makes sense.\n",
    "\n",
    "My **reason for using the neural net** here (together with SGD-like differntiable computing) over other ML algorithms of scikit-learn is that the other algorithms don't fit the problemset: it's not a classification, not a (multi)labeling, etc. The output is like in semantic (instance) segmentation of the same width and height as the input image. I don't know of any algorithm other than a deep neural net which can achieve this."
   ]
  },
  {
   "cell_type": "markdown",
   "id": "5b1c3d25-1038-4ac6-97cf-42271702a904",
   "metadata": {},
   "source": [
    "## Tasks"
   ]
  },
  {
   "cell_type": "markdown",
   "id": "c133f121-aae3-4275-a6ba-2e438d32463d",
   "metadata": {},
   "source": [
    "* decide on NN architecture - a U-Net like arch comes to mind (but probably won't get you to SOTA), check further\n",
    "* define input and output layers (HxWx3 -> HxW)\n",
    "* which loss function (for depth estimate)?\n",
    "* implement / find implementation of loss\n",
    "* SGD, Adam and L-BFGS are supported; SGD works but is usually worse than the (improved) Adam. L-BFGS I haven't encountered so far and it seems to be rather ancient. I will go with Adam for this reason.\n",
    "* dataset, dataloader, train_test_split\n",
    "* training loop incl. backpropagation / gradients\n",
    "* putting model in eval mode for evaluation on a (subset) of the testset"
   ]
  },
  {
   "cell_type": "code",
   "execution_count": null,
   "id": "0a26c10f-2dc4-4f96-a9f4-a4a1f65f33e4",
   "metadata": {},
   "outputs": [],
   "source": []
  }
 ],
 "metadata": {
  "kernelspec": {
   "display_name": "Python 3 (ipykernel)",
   "language": "python",
   "name": "python3"
  },
  "language_info": {
   "codemirror_mode": {
    "name": "ipython",
    "version": 3
   },
   "file_extension": ".py",
   "mimetype": "text/x-python",
   "name": "python",
   "nbconvert_exporter": "python",
   "pygments_lexer": "ipython3",
   "version": "3.11.7"
  }
 },
 "nbformat": 4,
 "nbformat_minor": 5
}
