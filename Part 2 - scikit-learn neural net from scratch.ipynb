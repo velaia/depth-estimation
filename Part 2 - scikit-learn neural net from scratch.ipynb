{
 "cells": [
  {
   "cell_type": "markdown",
   "id": "62564370-fe52-49bf-9147-428d43050d75",
   "metadata": {},
   "source": [
    "# Part 2: Depth Estimation limited to scikit-learn"
   ]
  },
  {
   "cell_type": "markdown",
   "id": "fba2f1ab-a931-4e45-a46c-fa93b6b00917",
   "metadata": {},
   "source": [
    "## Task"
   ]
  },
  {
   "cell_type": "markdown",
   "id": "c8549b0e-c7e6-4f1c-b934-7be77399b328",
   "metadata": {},
   "source": [
    "\"Imagine right now that you are only limited to use scikit-learn for this task. What model will you pick and why? Implement the code that creates this model, train it on the data from TFDS NYU Depth V2 (some part of it that may fit into RAM), and evaluate it.\""
   ]
  },
  {
   "cell_type": "markdown",
   "id": "6571701b-d9c5-4362-bf68-29e30907c8db",
   "metadata": {},
   "source": [
    "## Approach"
   ]
  },
  {
   "cell_type": "markdown",
   "id": "33e8043a-d475-45d5-946b-5cdb5d337f39",
   "metadata": {},
   "source": [
    "I haven't used scikit-learn a lot (mostly the train_test_split), so I'm starting by taking a look at the User Guide and Examples. I've encountered some of the algorithms before in one way or another, so they sound familiar (SGD (obviously), kNN, decision trees, ...) but I also see that there's still a lot I don't know in this library.\n",
    "\n",
    "The section I'm looking at right now is called [1.17 Neural network models (supervised)](https://scikit-learn.org/stable/modules/neural_networks_supervised.html) and scikit-learn seems to agree with me that it is not the right library to build a complex deep neural net: There's a warning right at the top cautioning that GPU support is missing:\n",
    "\n",
    "    Warning: This implementation is not intended for large-scale applications. In particular, scikit-learn offers no GPU support. For much faster, GPU-based implementations, as well as frameworks offering much more flexibility to build deep learning architectures, see Related Projects.\n"
   ]
  },
  {
   "cell_type": "markdown",
   "id": "1184b756-9c84-4a66-8142-9296ef0b933c",
   "metadata": {},
   "source": [
    "The relevant *related projects* are:\n",
    "\n",
    "**Deep neural networks etc.**\n",
    "* skorch A scikit-learn compatible neural network library that wraps PyTorch.\n",
    "* scikeras provides a wrapper around Keras to interface it with scikit-learn. SciKeras is the successor of tf.keras.wrappers.scikit_learn."
   ]
  },
  {
   "cell_type": "markdown",
   "id": "0c9bb84c-109f-407c-a6a2-add552c7f3bd",
   "metadata": {},
   "source": [
    "The model from scikit-learn that comes closest to our task is the [MLPRegressor](https://scikit-learn.org/stable/modules/generated/sklearn.neural_network.MLPRegressor.html#sklearn.neural_network.MLPRegressor) as its outputs are continuous values. But there are no straightforward ways in scikit-learn to build one's own architecture e.g. a U-Net, FPN or similar. I can't see any building blocks (NN layers, easily available activation functions, groups / blocks for repeating layer groups, ...). The issue why these models from scikit-learn don't work here is that for depth estimation you need a 2D depth map as output, not a (multilabel-)classification or a continuous value (like salary)."
   ]
  },
  {
   "cell_type": "markdown",
   "id": "b3d6618e-2b6c-4bb4-ad1c-78deb7749f2a",
   "metadata": {},
   "source": [
    "Maybe there's a technique before neural nets which I'm not aware of that can do depth estimation based on monocular images? Maybe scikit-learn (or scikit-image?) supports it. Let's do an arxiv search:\n",
    "\n",
    " ([Sample search](https://arxiv.org/search/advanced?advanced=&terms-0-operator=AND&terms-0-term=depth+estimation+single+image&terms-0-field=all&classification-physics_archives=all&classification-include_cross_list=include&date-year=&date-filter_by=date_range&date-from_date=2000&date-to_date=2014&date-date_type=submitted_date&abstracts=show&size=50&order=-announced_date_first), [1](https://arxiv.org/abs/1411.6387), [2](https://arxiv.org/abs/1011.5694), [3](https://arxiv.org/abs/1406.2283)). Only the second result (from 2010) is not deep neural network based. Before that I could only find techniques based on binocular techniques."
   ]
  },
  {
   "cell_type": "markdown",
   "id": "81c21a8c-41f8-4bcb-8cc5-ed3d73311f41",
   "metadata": {},
   "source": [
    "**Ending part 2**: I've run out of assessment time and because I wanted to finish this task last, I have to stop at this point."
   ]
  },
  {
   "cell_type": "markdown",
   "id": "fda0d2a2-7aea-4082-b82e-0ce0abb0a7ca",
   "metadata": {},
   "source": [
    "If I had to continue this task and had to use scikit-learn, I would probably subclass or adapt the [MLPRegressor class](https://github.com/scikit-learn/scikit-learn/blob/9e38cd00d032f777312e639477f1f52f3ea4b3b7/sklearn/neural_network/_multilayer_perceptron.py#L1257). Before doing so I would definitely want to know the (hopefully good) reasons for wanting to use scikit-learn for depth estimation."
   ]
  },
  {
   "cell_type": "markdown",
   "id": "e3529812-72e4-4a39-b0ab-58ea7084a1f3",
   "metadata": {},
   "source": [
    "## Quick MLPRegressor to understand what it does "
   ]
  },
  {
   "cell_type": "markdown",
   "id": "40da11ee-15fe-447d-8e31-f232a727c405",
   "metadata": {},
   "source": [
    "Quickly copying the MLPRegressor code from the documentation to see how it works."
   ]
  },
  {
   "cell_type": "code",
   "execution_count": 28,
   "id": "b6455b69-a4e9-4e35-9dc0-f2d07c33d44c",
   "metadata": {},
   "outputs": [
    {
     "data": {
      "text/plain": [
       "0.520915744081988"
      ]
     },
     "execution_count": 28,
     "metadata": {},
     "output_type": "execute_result"
    }
   ],
   "source": [
    "from sklearn.neural_network import MLPRegressor\n",
    "from sklearn.datasets import make_regression\n",
    "from sklearn.model_selection import train_test_split\n",
    "X, y = make_regression(n_samples=200, random_state=1)\n",
    "X_train, X_test, y_train, y_test = train_test_split(X, y,\n",
    "                                                    random_state=1)\n",
    "regr = MLPRegressor(random_state=1, max_iter=5000).fit(X_train, y_train)\n",
    "regr.predict(X_test[:2])\n",
    "regr.score(X_test, y_test)"
   ]
  },
  {
   "cell_type": "code",
   "execution_count": 29,
   "id": "77d99f68-ac9f-4f01-96db-75a94d11daba",
   "metadata": {},
   "outputs": [
    {
     "data": {
      "text/plain": [
       "((200, 100), (200,))"
      ]
     },
     "execution_count": 29,
     "metadata": {},
     "output_type": "execute_result"
    }
   ],
   "source": [
    "X.shape, y.shape"
   ]
  },
  {
   "cell_type": "code",
   "execution_count": 30,
   "id": "5f608195-f5d4-4bc4-9f03-1e6ecd331e5f",
   "metadata": {},
   "outputs": [
    {
     "data": {
      "text/plain": [
       "(array([-1.04054030e+00, -2.19631333e-03,  1.41229617e+00,  1.89476506e+00,\n",
       "        -9.54135902e-01,  1.57603932e+00,  3.14523396e-02,  9.82683848e-01,\n",
       "        -1.69967967e-01,  1.39589955e+00,  1.87349238e-01, -1.59635149e-01,\n",
       "         4.77698004e-01,  4.89547102e-01, -1.29925873e-01, -1.09395008e+00,\n",
       "         1.44854348e+00, -6.04188418e-01,  3.85565248e-01,  4.40692643e-01,\n",
       "        -1.03110525e-01,  1.33311252e-01, -2.00934679e+00,  1.08959712e+00,\n",
       "        -1.04576192e-01,  2.36560147e+00, -1.26858978e+00,  1.89256941e+00,\n",
       "         4.56092972e-01, -4.99648746e-01, -2.96346890e-01,  1.18391882e+00,\n",
       "         1.23496869e+00,  3.36368160e-01,  9.43203325e-01,  6.98800372e-01,\n",
       "         4.00153673e-01,  2.04898474e+00, -1.53165075e+00, -5.51358292e-01,\n",
       "         5.30446938e-01, -1.57830129e-01,  6.95895745e-01,  6.88356472e-01,\n",
       "         2.28370262e-01, -1.12131370e+00, -3.68854466e-01, -7.60631755e-01,\n",
       "         2.49894343e+00, -7.15845967e-01, -7.23002502e-01,  7.69551013e-01,\n",
       "         2.26002169e-01,  1.05134282e-01, -1.95739059e+00, -2.21839461e-01,\n",
       "         3.22483188e-02,  1.89989352e-02, -4.44056306e-01, -2.28577461e+00,\n",
       "        -1.22411942e-01,  1.09601647e+00, -6.19625286e-03,  7.32107779e-01,\n",
       "        -9.88517967e-01,  5.99686691e-01,  1.55520159e+00,  8.50271095e-01,\n",
       "         5.70398842e-01,  1.43828149e+00, -6.79315138e-01, -8.52967367e-02,\n",
       "        -1.10207773e+00, -2.68512486e+00,  2.34963762e-01, -9.97210281e-01,\n",
       "         2.33037563e-01, -2.36097392e-01, -2.26531123e+00,  6.29873269e-01,\n",
       "         2.83732344e-01,  4.50391026e-01,  1.14883261e+00, -3.39889592e-01,\n",
       "        -1.40690449e-01,  5.48059290e-01, -1.20499051e-01,  6.41860138e-01,\n",
       "        -1.50539717e+00,  1.24365175e+00,  2.71738624e+00,  6.85934750e-01,\n",
       "        -4.41135693e-01,  2.92352680e-02, -4.51925511e-02, -1.58229410e+00,\n",
       "        -1.23435415e+00, -1.24838837e+00,  3.09657106e-01,  7.13107100e-01]),\n",
       " 112.4676010897249)"
      ]
     },
     "execution_count": 30,
     "metadata": {},
     "output_type": "execute_result"
    }
   ],
   "source": [
    "X[1], y[1]"
   ]
  },
  {
   "cell_type": "code",
   "execution_count": 31,
   "id": "bb729d73-ebbf-4f9a-bd65-454779828db4",
   "metadata": {},
   "outputs": [
    {
     "data": {
      "text/plain": [
       "array([105.72547787,  72.38709649,  88.81242861,  94.65223891,\n",
       "        44.85262731,  71.90318558,  79.40550481,  32.31343773,\n",
       "       121.14568286,  93.75822279])"
      ]
     },
     "execution_count": 31,
     "metadata": {},
     "output_type": "execute_result"
    }
   ],
   "source": [
    "import numpy as np\n",
    "arr = np.random.rand(10, 100)\n",
    "regr.predict(arr)"
   ]
  },
  {
   "cell_type": "code",
   "execution_count": null,
   "id": "52687dbc-0120-42e6-b015-ae364066dda4",
   "metadata": {},
   "outputs": [],
   "source": []
  }
 ],
 "metadata": {
  "kernelspec": {
   "display_name": "Python 3 (ipykernel)",
   "language": "python",
   "name": "python3"
  },
  "language_info": {
   "codemirror_mode": {
    "name": "ipython",
    "version": 3
   },
   "file_extension": ".py",
   "mimetype": "text/x-python",
   "name": "python",
   "nbconvert_exporter": "python",
   "pygments_lexer": "ipython3",
   "version": "3.11.7"
  }
 },
 "nbformat": 4,
 "nbformat_minor": 5
}
